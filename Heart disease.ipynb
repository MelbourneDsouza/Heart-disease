{
 "cells": [
  {
   "cell_type": "markdown",
   "metadata": {},
   "source": [
    "# Heart Disease Dataset"
   ]
  },
  {
   "cell_type": "markdown",
   "metadata": {},
   "source": [
    "**Summary**"
   ]
  },
  {
   "cell_type": "markdown",
   "metadata": {},
   "source": [
    "With millions of people suffering from heart disease, a number of studies have attempted to predict whether a person is at risk of having heart disease or not through machine learning techniques. The obtained accuracy in the studies also shows the potential of applying such techniques to the medical field since it could be beneficial in initial diagnosis. With this particular dataset, **the objective is to use the features given in the dataset to classify whether a person has heart disease**. To do so, 4 classification models are developed including, Logistic Regression, Random Forest, Gradient Boosting and Neural Network. The result of these algorithms shows an acceptable accuracy approximately 80% - 90%. It is believed that with additional research and more data, these model would achieve higher accuracy. Although, this may not be accurate enough for the medical industry to trust the algorithm in deciding if a person has disease, it would be enough to utilize as a support system assisting professional in the field to initially diagnose diseases. The best model with 90% accuracy is gradient boosting. It shows that the top 5 factors that contributes the cause of heart disease are, the chest pain experienced, the maximum heart rate achieved, the number of major vessle colored by flourosopy, thalassemia and ST depression induced by exercise."
   ]
  },
  {
   "cell_type": "markdown",
   "metadata": {},
   "source": [
    "## Introduction\n",
    "Heart Disease has been a prominent disease taking people lives across the globe. The World Health Organization has estimated that globally 17 million people die because of cardiovascular disease every year, specifically heart attacks and strokes (WHO,2019). A number of factors can contribute to the cause of the disease, for example family history, blood pressure, physical activities, age, sex, lifestyle, and alcohol intake. These are just a few of the factors, there are a lot more to consider. Thus, it comes the challenge to initially determine wheter a person is at risk of having a heart disease. With the ability to diagnose heart disease early and provide the right treatment, a lot of lives could be saved. Fortunately, the application of machine learning has given the ability to predict the outcomes based on given input data. In another word, one could develop a machine learning diagnosis system to initially assist in detecting heart disease.  \n"
   ]
  },
  {
   "cell_type": "code",
   "execution_count": 3,
   "metadata": {},
   "outputs": [
    {
     "name": "stdout",
     "output_type": "stream",
     "text": [
      "Collecting tensorflow\n",
      "  Downloading https://files.pythonhosted.org/packages/34/d5/ce8c17971067c0184c9045112b755be5461d5ce5253ef65a367e1298d7c5/tensorflow-2.1.0-cp37-cp37m-win_amd64.whl (355.8MB)\n",
      "Collecting tensorboard<2.2.0,>=2.1.0 (from tensorflow)\n",
      "  Downloading https://files.pythonhosted.org/packages/d9/41/bbf49b61370e4f4d245d4c6051dfb6db80cec672605c91b1652ac8cc3d38/tensorboard-2.1.1-py3-none-any.whl (3.8MB)\n",
      "Requirement already satisfied: protobuf>=3.8.0 in c:\\users\\dsouz\\anaconda3\\lib\\site-packages (from tensorflow) (3.10.0)\n",
      "Collecting tensorflow-estimator<2.2.0,>=2.1.0rc0 (from tensorflow)\n",
      "  Downloading https://files.pythonhosted.org/packages/18/90/b77c328a1304437ab1310b463e533fa7689f4bfc41549593056d812fab8e/tensorflow_estimator-2.1.0-py2.py3-none-any.whl (448kB)\n",
      "Requirement already satisfied: keras-applications>=1.0.8 in c:\\users\\dsouz\\anaconda3\\lib\\site-packages (from tensorflow) (1.0.8)\n",
      "Requirement already satisfied: grpcio>=1.8.6 in c:\\users\\dsouz\\anaconda3\\lib\\site-packages (from tensorflow) (1.24.1)\n",
      "Requirement already satisfied: wheel>=0.26; python_version >= \"3\" in c:\\users\\dsouz\\anaconda3\\lib\\site-packages (from tensorflow) (0.33.4)\n",
      "Collecting termcolor>=1.1.0 (from tensorflow)\n",
      "Collecting google-pasta>=0.1.6 (from tensorflow)\n",
      "  Downloading https://files.pythonhosted.org/packages/a3/de/c648ef6835192e6e2cc03f40b19eeda4382c49b5bafb43d88b931c4c74ac/google_pasta-0.2.0-py3-none-any.whl (57kB)\n",
      "Requirement already satisfied: gast==0.2.2 in c:\\users\\dsouz\\anaconda3\\lib\\site-packages (from tensorflow) (0.2.2)\n",
      "Collecting opt-einsum>=2.3.2 (from tensorflow)\n",
      "  Downloading https://files.pythonhosted.org/packages/b2/49/2233e63052d5686c72131b579837ddfb98ba9dd0b92bb91efcb441ada8ce/opt_einsum-3.2.0-py3-none-any.whl (63kB)\n",
      "Requirement already satisfied: keras-preprocessing>=1.1.0 in c:\\users\\dsouz\\anaconda3\\lib\\site-packages (from tensorflow) (1.1.0)\n",
      "Collecting wrapt>=1.11.1 (from tensorflow)\n",
      "  Downloading https://files.pythonhosted.org/packages/82/f7/e43cefbe88c5fd371f4cf0cf5eb3feccd07515af9fd6cf7dbf1d1793a797/wrapt-1.12.1.tar.gz\n",
      "Collecting scipy==1.4.1; python_version >= \"3\" (from tensorflow)\n",
      "  Downloading https://files.pythonhosted.org/packages/61/51/046cbc61c7607e5ecead6ff1a9453fba5e7e47a5ea8d608cc7036586a5ef/scipy-1.4.1-cp37-cp37m-win_amd64.whl (30.9MB)\n",
      "Requirement already satisfied: numpy<2.0,>=1.16.0 in c:\\users\\dsouz\\anaconda3\\lib\\site-packages (from tensorflow) (1.17.2)\n",
      "Requirement already satisfied: absl-py>=0.7.0 in c:\\users\\dsouz\\anaconda3\\lib\\site-packages (from tensorflow) (0.8.1)\n",
      "Collecting astor>=0.6.0 (from tensorflow)\n",
      "  Downloading https://files.pythonhosted.org/packages/c3/88/97eef84f48fa04fbd6750e62dcceafba6c63c81b7ac1420856c8dcc0a3f9/astor-0.8.1-py2.py3-none-any.whl\n",
      "Requirement already satisfied: six>=1.12.0 in c:\\users\\dsouz\\anaconda3\\lib\\site-packages (from tensorflow) (1.12.0)\n",
      "Collecting google-auth<2,>=1.6.3 (from tensorboard<2.2.0,>=2.1.0->tensorflow)\n",
      "  Downloading https://files.pythonhosted.org/packages/5a/8d/e2ebbd0502627ed0d8a408162020e1c0792f088b49fddeedaaeebc206ed7/google_auth-1.11.2-py2.py3-none-any.whl (76kB)\n",
      "Requirement already satisfied: requests<3,>=2.21.0 in c:\\users\\dsouz\\anaconda3\\lib\\site-packages (from tensorboard<2.2.0,>=2.1.0->tensorflow) (2.22.0)\n",
      "Requirement already satisfied: werkzeug>=0.11.15 in c:\\users\\dsouz\\anaconda3\\lib\\site-packages (from tensorboard<2.2.0,>=2.1.0->tensorflow) (0.15.4)\n",
      "Requirement already satisfied: markdown>=2.6.8 in c:\\users\\dsouz\\anaconda3\\lib\\site-packages (from tensorboard<2.2.0,>=2.1.0->tensorflow) (3.1.1)\n",
      "Requirement already satisfied: setuptools>=41.0.0 in c:\\users\\dsouz\\anaconda3\\lib\\site-packages (from tensorboard<2.2.0,>=2.1.0->tensorflow) (41.0.1)\n",
      "Collecting google-auth-oauthlib<0.5,>=0.4.1 (from tensorboard<2.2.0,>=2.1.0->tensorflow)\n",
      "  Downloading https://files.pythonhosted.org/packages/7b/b8/88def36e74bee9fce511c9519571f4e485e890093ab7442284f4ffaef60b/google_auth_oauthlib-0.4.1-py2.py3-none-any.whl\n",
      "Requirement already satisfied: h5py in c:\\users\\dsouz\\anaconda3\\lib\\site-packages (from keras-applications>=1.0.8->tensorflow) (2.9.0)\n",
      "Collecting cachetools<5.0,>=2.0.0 (from google-auth<2,>=1.6.3->tensorboard<2.2.0,>=2.1.0->tensorflow)\n",
      "  Downloading https://files.pythonhosted.org/packages/08/6a/abf83cb951617793fd49c98cb9456860f5df66ff89883c8660aa0672d425/cachetools-4.0.0-py3-none-any.whl\n",
      "Collecting pyasn1-modules>=0.2.1 (from google-auth<2,>=1.6.3->tensorboard<2.2.0,>=2.1.0->tensorflow)\n",
      "  Downloading https://files.pythonhosted.org/packages/95/de/214830a981892a3e286c3794f41ae67a4495df1108c3da8a9f62159b9a9d/pyasn1_modules-0.2.8-py2.py3-none-any.whl (155kB)\n",
      "Collecting rsa<4.1,>=3.1.4 (from google-auth<2,>=1.6.3->tensorboard<2.2.0,>=2.1.0->tensorflow)\n",
      "  Downloading https://files.pythonhosted.org/packages/02/e5/38518af393f7c214357079ce67a317307936896e961e35450b70fad2a9cf/rsa-4.0-py2.py3-none-any.whl\n",
      "Requirement already satisfied: urllib3!=1.25.0,!=1.25.1,<1.26,>=1.21.1 in c:\\users\\dsouz\\anaconda3\\lib\\site-packages (from requests<3,>=2.21.0->tensorboard<2.2.0,>=2.1.0->tensorflow) (1.24.2)\n",
      "Requirement already satisfied: chardet<3.1.0,>=3.0.2 in c:\\users\\dsouz\\anaconda3\\lib\\site-packages (from requests<3,>=2.21.0->tensorboard<2.2.0,>=2.1.0->tensorflow) (3.0.4)\n",
      "Requirement already satisfied: certifi>=2017.4.17 in c:\\users\\dsouz\\anaconda3\\lib\\site-packages (from requests<3,>=2.21.0->tensorboard<2.2.0,>=2.1.0->tensorflow) (2019.11.28)\n",
      "Requirement already satisfied: idna<2.9,>=2.5 in c:\\users\\dsouz\\anaconda3\\lib\\site-packages (from requests<3,>=2.21.0->tensorboard<2.2.0,>=2.1.0->tensorflow) (2.8)\n",
      "Collecting requests-oauthlib>=0.7.0 (from google-auth-oauthlib<0.5,>=0.4.1->tensorboard<2.2.0,>=2.1.0->tensorflow)\n",
      "  Downloading https://files.pythonhosted.org/packages/a3/12/b92740d845ab62ea4edf04d2f4164d82532b5a0b03836d4d4e71c6f3d379/requests_oauthlib-1.3.0-py2.py3-none-any.whl\n",
      "Collecting pyasn1<0.5.0,>=0.4.6 (from pyasn1-modules>=0.2.1->google-auth<2,>=1.6.3->tensorboard<2.2.0,>=2.1.0->tensorflow)\n",
      "  Downloading https://files.pythonhosted.org/packages/62/1e/a94a8d635fa3ce4cfc7f506003548d0a2447ae76fd5ca53932970fe3053f/pyasn1-0.4.8-py2.py3-none-any.whl (77kB)\n",
      "Collecting oauthlib>=3.0.0 (from requests-oauthlib>=0.7.0->google-auth-oauthlib<0.5,>=0.4.1->tensorboard<2.2.0,>=2.1.0->tensorflow)\n",
      "  Downloading https://files.pythonhosted.org/packages/05/57/ce2e7a8fa7c0afb54a0581b14a65b56e62b5759dbc98e80627142b8a3704/oauthlib-3.1.0-py2.py3-none-any.whl (147kB)\n",
      "Building wheels for collected packages: wrapt\n",
      "  Building wheel for wrapt (setup.py): started\n",
      "  Building wheel for wrapt (setup.py): finished with status 'done'\n",
      "  Stored in directory: C:\\Users\\dsouz\\AppData\\Local\\pip\\Cache\\wheels\\b1\\c2\\ed\\d62208260edbd3fa7156545c00ef966f45f2063d0a84f8208a\n",
      "Successfully built wrapt\n",
      "Installing collected packages: cachetools, pyasn1, pyasn1-modules, rsa, google-auth, oauthlib, requests-oauthlib, google-auth-oauthlib, tensorboard, tensorflow-estimator, termcolor, google-pasta, opt-einsum, wrapt, scipy, astor, tensorflow\n",
      "  Found existing installation: tensorboard 2.0.0\n",
      "    Uninstalling tensorboard-2.0.0:\n",
      "      Successfully uninstalled tensorboard-2.0.0\n",
      "  Found existing installation: wrapt 1.10.11\n",
      "Note: you may need to restart the kernel to use updated packages.\n"
     ]
    },
    {
     "name": "stderr",
     "output_type": "stream",
     "text": [
      "ERROR: fastai 1.0.34 requires torchvision-nightly, which is not installed.\n",
      "ERROR: thinc 6.12.0 has requirement wrapt<1.11.0,>=1.10.0, but you'll have wrapt 1.12.1 which is incompatible.\n",
      "ERROR: tensorboard 2.1.1 has requirement grpcio>=1.24.3, but you'll have grpcio 1.24.1 which is incompatible.\n",
      "ERROR: spacy 2.0.16 has requirement regex==2018.01.10, but you'll have regex 2018.8.29 which is incompatible.\n",
      "ERROR: Cannot uninstall 'wrapt'. It is a distutils installed project and thus we cannot accurately determine which files belong to it which would lead to only a partial uninstall.\n"
     ]
    }
   ],
   "source": [
    "pip install tensorflow"
   ]
  },
  {
   "cell_type": "code",
   "execution_count": 5,
   "metadata": {},
   "outputs": [
    {
     "name": "stderr",
     "output_type": "stream",
     "text": [
      "Using TensorFlow backend.\n"
     ]
    }
   ],
   "source": [
    "# Import libraries\n",
    "import pandas as pd\n",
    "import numpy as np\n",
    "import matplotlib.pyplot as plt\n",
    "import seaborn as sns\n",
    "\n",
    "import statsmodels.api as sm\n",
    "from sklearn.linear_model import LogisticRegression\n",
    "from sklearn.feature_selection import RFE\n",
    "from sklearn import tree\n",
    "from sklearn import preprocessing\n",
    "from sklearn.tree import export_graphviz\n",
    "from sklearn.ensemble import RandomForestClassifier, GradientBoostingClassifier\n",
    "from sklearn.model_selection import train_test_split,RandomizedSearchCV\n",
    "from sklearn.metrics import (confusion_matrix, accuracy_score, f1_score, recall_score\n",
    ", roc_auc_score, roc_curve,classification_report)\n",
    "\n",
    "from keras.utils.np_utils import to_categorical\n",
    "from keras.models import Sequential\n",
    "from keras.layers import Dense, Dropout\n",
    "from keras.optimizers import Adam\n",
    "\n"
   ]
  },
  {
   "cell_type": "markdown",
   "metadata": {},
   "source": [
    "# Data Extraction\n",
    "The datasets are retrieved from UCI repository (https://archive.ics.uci.edu/ml/datasets/Heart+Disease). They are from 4 different database which are Cleveland, Hungary, Switzerland and the VA Long Beach. The original file has 75 attributes, however all published research refer to use only 14 attributes and mainly from the Cleveland database. Based on the published reseaches, most of them focuses on classifying the presence and absence of heart disease. In this assignment, we have initially decided to start with the data from all 4 databases."
   ]
  },
  {
   "cell_type": "code",
   "execution_count": 6,
   "metadata": {},
   "outputs": [],
   "source": [
    "# Cleveland\n",
    "df = pd.read_csv('https://archive.ics.uci.edu/ml/machine-learning-databases/heart-disease/processed.cleveland.data'\n",
    "                 , header=None, na_values = ['?','',' ','NaN'])\n",
    "# Hungarian\n",
    "df1 = pd.read_csv('https://archive.ics.uci.edu/ml/machine-learning-databases/heart-disease/processed.hungarian.data'\n",
    "                  , header=None, na_values = ['?','',' ','NaN'])\n",
    "# Switzerland\n",
    "df2= pd.read_csv('https://archive.ics.uci.edu/ml/machine-learning-databases/heart-disease/processed.switzerland.data'\n",
    "                 , header=None, na_values = ['?','',' ','NaN'])\n",
    "# VA Long Beach\n",
    "df3 = pd.read_csv('https://archive.ics.uci.edu/ml/machine-learning-databases/heart-disease/processed.va.data'\n",
    "                  , header=None, na_values = ['?','',' ','NaN'])\n",
    "\n",
    "# Merge the files into one table\n",
    "heartdisease = pd.concat([df,df1,df2,df3])"
   ]
  },
  {
   "cell_type": "markdown",
   "metadata": {},
   "source": [
    "## Data Description"
   ]
  },
  {
   "cell_type": "code",
   "execution_count": 7,
   "metadata": {},
   "outputs": [
    {
     "name": "stdout",
     "output_type": "stream",
     "text": [
      "The shape of the data is : (920, 14)\n"
     ]
    },
    {
     "data": {
      "text/html": [
       "<div>\n",
       "<style scoped>\n",
       "    .dataframe tbody tr th:only-of-type {\n",
       "        vertical-align: middle;\n",
       "    }\n",
       "\n",
       "    .dataframe tbody tr th {\n",
       "        vertical-align: top;\n",
       "    }\n",
       "\n",
       "    .dataframe thead th {\n",
       "        text-align: right;\n",
       "    }\n",
       "</style>\n",
       "<table border=\"1\" class=\"dataframe\">\n",
       "  <thead>\n",
       "    <tr style=\"text-align: right;\">\n",
       "      <th></th>\n",
       "      <th>age</th>\n",
       "      <th>sex</th>\n",
       "      <th>cp</th>\n",
       "      <th>trestbps</th>\n",
       "      <th>chol</th>\n",
       "      <th>fbs</th>\n",
       "      <th>restecg</th>\n",
       "      <th>thalach</th>\n",
       "      <th>exang</th>\n",
       "      <th>oldpeak</th>\n",
       "      <th>slope</th>\n",
       "      <th>ca</th>\n",
       "      <th>thal</th>\n",
       "      <th>target</th>\n",
       "    </tr>\n",
       "  </thead>\n",
       "  <tbody>\n",
       "    <tr>\n",
       "      <th>0</th>\n",
       "      <td>63.0</td>\n",
       "      <td>1.0</td>\n",
       "      <td>1.0</td>\n",
       "      <td>145.0</td>\n",
       "      <td>233.0</td>\n",
       "      <td>1.0</td>\n",
       "      <td>2.0</td>\n",
       "      <td>150.0</td>\n",
       "      <td>0.0</td>\n",
       "      <td>2.3</td>\n",
       "      <td>3.0</td>\n",
       "      <td>0.0</td>\n",
       "      <td>6.0</td>\n",
       "      <td>0</td>\n",
       "    </tr>\n",
       "    <tr>\n",
       "      <th>1</th>\n",
       "      <td>67.0</td>\n",
       "      <td>1.0</td>\n",
       "      <td>4.0</td>\n",
       "      <td>160.0</td>\n",
       "      <td>286.0</td>\n",
       "      <td>0.0</td>\n",
       "      <td>2.0</td>\n",
       "      <td>108.0</td>\n",
       "      <td>1.0</td>\n",
       "      <td>1.5</td>\n",
       "      <td>2.0</td>\n",
       "      <td>3.0</td>\n",
       "      <td>3.0</td>\n",
       "      <td>2</td>\n",
       "    </tr>\n",
       "    <tr>\n",
       "      <th>2</th>\n",
       "      <td>67.0</td>\n",
       "      <td>1.0</td>\n",
       "      <td>4.0</td>\n",
       "      <td>120.0</td>\n",
       "      <td>229.0</td>\n",
       "      <td>0.0</td>\n",
       "      <td>2.0</td>\n",
       "      <td>129.0</td>\n",
       "      <td>1.0</td>\n",
       "      <td>2.6</td>\n",
       "      <td>2.0</td>\n",
       "      <td>2.0</td>\n",
       "      <td>7.0</td>\n",
       "      <td>1</td>\n",
       "    </tr>\n",
       "    <tr>\n",
       "      <th>3</th>\n",
       "      <td>37.0</td>\n",
       "      <td>1.0</td>\n",
       "      <td>3.0</td>\n",
       "      <td>130.0</td>\n",
       "      <td>250.0</td>\n",
       "      <td>0.0</td>\n",
       "      <td>0.0</td>\n",
       "      <td>187.0</td>\n",
       "      <td>0.0</td>\n",
       "      <td>3.5</td>\n",
       "      <td>3.0</td>\n",
       "      <td>0.0</td>\n",
       "      <td>3.0</td>\n",
       "      <td>0</td>\n",
       "    </tr>\n",
       "    <tr>\n",
       "      <th>4</th>\n",
       "      <td>41.0</td>\n",
       "      <td>0.0</td>\n",
       "      <td>2.0</td>\n",
       "      <td>130.0</td>\n",
       "      <td>204.0</td>\n",
       "      <td>0.0</td>\n",
       "      <td>2.0</td>\n",
       "      <td>172.0</td>\n",
       "      <td>0.0</td>\n",
       "      <td>1.4</td>\n",
       "      <td>1.0</td>\n",
       "      <td>0.0</td>\n",
       "      <td>3.0</td>\n",
       "      <td>0</td>\n",
       "    </tr>\n",
       "  </tbody>\n",
       "</table>\n",
       "</div>"
      ],
      "text/plain": [
       "    age  sex   cp  trestbps   chol  fbs  restecg  thalach  exang  oldpeak  \\\n",
       "0  63.0  1.0  1.0     145.0  233.0  1.0      2.0    150.0    0.0      2.3   \n",
       "1  67.0  1.0  4.0     160.0  286.0  0.0      2.0    108.0    1.0      1.5   \n",
       "2  67.0  1.0  4.0     120.0  229.0  0.0      2.0    129.0    1.0      2.6   \n",
       "3  37.0  1.0  3.0     130.0  250.0  0.0      0.0    187.0    0.0      3.5   \n",
       "4  41.0  0.0  2.0     130.0  204.0  0.0      2.0    172.0    0.0      1.4   \n",
       "\n",
       "   slope   ca  thal  target  \n",
       "0    3.0  0.0   6.0       0  \n",
       "1    2.0  3.0   3.0       2  \n",
       "2    2.0  2.0   7.0       1  \n",
       "3    3.0  0.0   3.0       0  \n",
       "4    1.0  0.0   3.0       0  "
      ]
     },
     "execution_count": 7,
     "metadata": {},
     "output_type": "execute_result"
    }
   ],
   "source": [
    "# Name the header, the header order is given in UCI repository\n",
    "header =['age','sex','cp','trestbps','chol','fbs','restecg','thalach','exang','oldpeak','slope','ca','thal','target']\n",
    "heartdisease.columns = header\n",
    "# Check shape of the data\n",
    "print('The shape of the data is :',heartdisease.shape)\n",
    "# Display a chunk of data\n",
    "heartdisease.head()"
   ]
  },
  {
   "cell_type": "markdown",
   "metadata": {},
   "source": [
    "These are the description of the columns specified in UCI repository\n",
    "\n",
    "- <b>age</b>: Age of a person\n",
    "- <b>sex</b>: 0 = female, 1 = male\n",
    "- <b>cp</b>: chest pain experienced, 1 = typical angina, 2 = atypical angina, 3 = non-anginal pain, 4 = asymptomatic\n",
    "- <b>trestbps</b>: resting blood measure (mm Hg on admission to the hospital)\n",
    "- <b>chol</b>: cholesterol measurement in mg/dl\n",
    "- <b>fbs</b>: fasting blood sugar (>120 mg/dl, 1 = true, 0 = false)\n",
    "- <b>restecg</b>: Resting electro cardiographic measurement (0 = normal, 1 =having ST-T wave abnormality, 2 = showing probable or definite left ventricular hypertrophy by Estes'criteria.\n",
    "- <b>thalach</b>: maximum heart rate achieved\n",
    "- <b>exang</b>: exercise iduced angina (1 = yes, 0 = no)\n",
    "- <b>oldpeak</b>: ST depression induced by exercise relative to rest (relates to positions on the ECG plot)\n",
    "- <b>slope</b>: slope of the peak exercise ST segment (1 = upsloping, 2 = flat, 3 = downsloping)\n",
    "- <b>ca</b>: the number of major vessels (0-3) colored by flourosopy\n",
    "- <b>thal</b>: thalassemia (3 = normal, 6 = fixed defect, 7 = reversable defect)\n",
    "- <b>target</b>: Heart disease (1,2,3,4 = distinguish presence, 0 = absence)"
   ]
  },
  {
   "cell_type": "markdown",
   "metadata": {},
   "source": [
    "**Goal**: Attempt to distinguish presence of heart disease in the target column"
   ]
  },
  {
   "cell_type": "markdown",
   "metadata": {},
   "source": [
    "# Data Cleaning"
   ]
  },
  {
   "cell_type": "markdown",
   "metadata": {},
   "source": [
    "## Missing Values"
   ]
  },
  {
   "cell_type": "code",
   "execution_count": 8,
   "metadata": {
    "scrolled": false
   },
   "outputs": [
    {
     "data": {
      "text/plain": [
       "age           0\n",
       "sex           0\n",
       "cp            0\n",
       "trestbps     59\n",
       "chol         30\n",
       "fbs          90\n",
       "restecg       2\n",
       "thalach      55\n",
       "exang        55\n",
       "oldpeak      62\n",
       "slope       309\n",
       "ca          611\n",
       "thal        486\n",
       "target        0\n",
       "dtype: int64"
      ]
     },
     "execution_count": 8,
     "metadata": {},
     "output_type": "execute_result"
    }
   ],
   "source": [
    "# Check missing values and shape of the data\n",
    "heartdisease.isnull().sum()"
   ]
  },
  {
   "cell_type": "markdown",
   "metadata": {},
   "source": [
    "**Observation:**  There are 920 rows with 14 columns. It is observed that there are some columns having missing value more than 50 percent of the dataset. However, dropping the columns is not considered as based on literatured review, these columns do have influences over the risk of having heart disease. Thus, the row that contains missing value will be dropped instead."
   ]
  },
  {
   "cell_type": "markdown",
   "metadata": {},
   "source": [
    " "
   ]
  },
  {
   "cell_type": "markdown",
   "metadata": {},
   "source": [
    "**Check the datatype and statistics summary of the dataset**"
   ]
  },
  {
   "cell_type": "code",
   "execution_count": 9,
   "metadata": {},
   "outputs": [
    {
     "name": "stdout",
     "output_type": "stream",
     "text": [
      "<class 'pandas.core.frame.DataFrame'>\n",
      "Int64Index: 920 entries, 0 to 199\n",
      "Data columns (total 14 columns):\n",
      "age         920 non-null float64\n",
      "sex         920 non-null float64\n",
      "cp          920 non-null float64\n",
      "trestbps    861 non-null float64\n",
      "chol        890 non-null float64\n",
      "fbs         830 non-null float64\n",
      "restecg     918 non-null float64\n",
      "thalach     865 non-null float64\n",
      "exang       865 non-null float64\n",
      "oldpeak     858 non-null float64\n",
      "slope       611 non-null float64\n",
      "ca          309 non-null float64\n",
      "thal        434 non-null float64\n",
      "target      920 non-null int64\n",
      "dtypes: float64(13), int64(1)\n",
      "memory usage: 107.8 KB\n",
      "None\n",
      "          age     sex      cp  trestbps    chol     fbs  restecg  thalach  \\\n",
      "count  920.00  920.00  920.00    861.00  890.00  830.00   918.00   865.00   \n",
      "mean    53.51    0.79    3.25    132.13  199.13    0.17     0.60   137.55   \n",
      "std      9.42    0.41    0.93     19.07  110.78    0.37     0.81    25.93   \n",
      "min     28.00    0.00    1.00      0.00    0.00    0.00     0.00    60.00   \n",
      "25%     47.00    1.00    3.00    120.00  175.00    0.00     0.00   120.00   \n",
      "50%     54.00    1.00    4.00    130.00  223.00    0.00     0.00   140.00   \n",
      "75%     60.00    1.00    4.00    140.00  268.00    0.00     1.00   157.00   \n",
      "max     77.00    1.00    4.00    200.00  603.00    1.00     2.00   202.00   \n",
      "\n",
      "        exang  oldpeak   slope      ca    thal  target  \n",
      "count  865.00   858.00  611.00  309.00  434.00  920.00  \n",
      "mean     0.39     0.88    1.77    0.68    5.09    1.00  \n",
      "std      0.49     1.09    0.62    0.94    1.92    1.14  \n",
      "min      0.00    -2.60    1.00    0.00    3.00    0.00  \n",
      "25%      0.00     0.00    1.00    0.00    3.00    0.00  \n",
      "50%      0.00     0.50    2.00    0.00    6.00    1.00  \n",
      "75%      1.00     1.50    2.00    1.00    7.00    2.00  \n",
      "max      1.00     6.20    3.00    3.00    7.00    4.00  \n"
     ]
    }
   ],
   "source": [
    "# Check data type\n",
    "print(heartdisease.info())\n",
    "# Get statistic summary\n",
    "print(round(heartdisease.describe(),2))"
   ]
  },
  {
   "cell_type": "markdown",
   "metadata": {},
   "source": [
    "**Observation:** The data in each columns is in numeric format. The following columns are the columns that have categorical value where each number represents a category.<br>\n",
    "- sex, cp, fbs, exang, ca, thal, slope ,target"
   ]
  },
  {
   "cell_type": "markdown",
   "metadata": {},
   "source": [
    " "
   ]
  },
  {
   "cell_type": "markdown",
   "metadata": {},
   "source": [
    "**Dropping rows that contains missing values**"
   ]
  },
  {
   "cell_type": "code",
   "execution_count": 10,
   "metadata": {},
   "outputs": [
    {
     "data": {
      "text/plain": [
       "age         0\n",
       "sex         0\n",
       "cp          0\n",
       "trestbps    0\n",
       "chol        0\n",
       "fbs         0\n",
       "restecg     0\n",
       "thalach     0\n",
       "exang       0\n",
       "oldpeak     0\n",
       "slope       0\n",
       "ca          0\n",
       "thal        0\n",
       "target      0\n",
       "dtype: int64"
      ]
     },
     "execution_count": 10,
     "metadata": {},
     "output_type": "execute_result"
    }
   ],
   "source": [
    "heartdisease.dropna(inplace=True)\n",
    "heartdisease.astype({'age':'int',\n",
    "                     'sex':'int',\n",
    "                     'cp':'int',\n",
    "                     'trestbps':'int',\n",
    "                     'chol':'int',\n",
    "                     'fbs':'int',\n",
    "                     'restecg':'int',\n",
    "                     'thalach':'int',\n",
    "                     'exang':'int',\n",
    "                     'oldpeak':'int',\n",
    "                     'slope':'int',\n",
    "                     'ca':'int',\n",
    "                     'thal':'int',\n",
    "                     'target':'int'                \n",
    "})\n",
    "heartdisease.isnull().sum()"
   ]
  },
  {
   "cell_type": "markdown",
   "metadata": {},
   "source": [
    "## Data Transformation"
   ]
  },
  {
   "cell_type": "markdown",
   "metadata": {},
   "source": [
    "As the target column is the desired output. It is beneficial to see how the given output is distributed."
   ]
  },
  {
   "cell_type": "code",
   "execution_count": 11,
   "metadata": {},
   "outputs": [
    {
     "name": "stdout",
     "output_type": "stream",
     "text": [
      "0    160\n",
      "1     56\n",
      "3     35\n",
      "2     35\n",
      "4     13\n",
      "Name: target, dtype: int64\n"
     ]
    },
    {
     "data": {
      "image/png": "[encoded data removed]",
      "text/plain": [
       "<Figure size 576x504 with 1 Axes>"
      ]
     },
     "metadata": {
      "needs_background": "light"
     },
     "output_type": "display_data"
    }
   ],
   "source": [
    "print(heartdisease['target'].value_counts())\n",
    "fig = plt.figure(figsize=(8,7))\n",
    "plt.bar(np.arange(5), height=heartdisease['target'].value_counts().sort_index(),color = ['darkblue','darkred','green'\n",
    "                                                                                         ,'orange','purple'])\n",
    "plt.title(\"'target' distribution\")\n",
    "\n",
    "tlabel = list(heartdisease['target'].value_counts())\n",
    "for i in range(5):\n",
    "    plt.text(x = i-0.1 , y =tlabel[i] +2 , s = tlabel[i], size = 12)"
   ]
  },
  {
   "cell_type": "markdown",
   "metadata": {},
   "source": [
    "Based on target distribution, the classes in target column are not proportionally distributed. This will result in bad prediction on the class that has only a few observation, for instance class 4. To deal with this problem, we have decided to transform the target classes into only 0 and 1, where 0 represents the absence of heart disease and 1 represents the presence of heart disease."
   ]
  },
  {
   "cell_type": "markdown",
   "metadata": {},
   "source": [
    " "
   ]
  },
  {
   "cell_type": "markdown",
   "metadata": {},
   "source": [
    "**Convert target = 1,2,3,4 to 1**"
   ]
  },
  {
   "cell_type": "code",
   "execution_count": 12,
   "metadata": {},
   "outputs": [],
   "source": [
    "# Convert anything that is not 0 to 1\n",
    "heartdisease.loc[heartdisease['target']!=0,'target'] = 1"
   ]
  },
  {
   "cell_type": "code",
   "execution_count": 13,
   "metadata": {},
   "outputs": [
    {
     "name": "stdout",
     "output_type": "stream",
     "text": [
      "0    160\n",
      "1    139\n",
      "Name: target, dtype: int64\n"
     ]
    },
    {
     "data": {
      "image/png": "[encoded data removed]",
      "text/plain": [
       "<Figure size 576x504 with 1 Axes>"
      ]
     },
     "metadata": {
      "needs_background": "light"
     },
     "output_type": "display_data"
    }
   ],
   "source": [
    "# Check the distribution\n",
    "print(heartdisease['target'].value_counts().sort_index())\n",
    "fig = plt.figure(figsize=(8,7))\n",
    "plt.bar(np.arange(2), height=heartdisease['target'].value_counts().sort_index(),color = ['darkblue','darkred'])\n",
    "plt.title(\"'target' distribution\")\n",
    "\n",
    "tlabel = list(heartdisease['target'].value_counts().sort_index())\n",
    "for i in range(2):\n",
    "    plt.text(x = i-0.1 , y =tlabel[i] +3 , s = tlabel[i], size = 12)"
   ]
  },
  {
   "cell_type": "markdown",
   "metadata": {},
   "source": [
    "After the target is transformed and missing values are dropped, the distribution in the target is closer to proportional."
   ]
  },
  {
   "cell_type": "markdown",
   "metadata": {},
   "source": [
    "# Data Exploration"
   ]
  },
  {
   "cell_type": "markdown",
   "metadata": {},
   "source": [
    "## Correlation"
   ]
  },
  {
   "cell_type": "markdown",
   "metadata": {},
   "source": [
    "First, the correlation is checked to see how each attributes potentially causes heart disease"
   ]
  },
  {
   "cell_type": "code",
   "execution_count": 14,
   "metadata": {},
   "outputs": [
    {
     "data": {
      "text/plain": [
       "target      1.000000\n",
       "thal        0.530603\n",
       "ca          0.455398\n",
       "exang       0.427123\n",
       "oldpeak     0.424947\n",
       "cp          0.412597\n",
       "slope       0.335926\n",
       "sex         0.281912\n",
       "age         0.223498\n",
       "restecg     0.157941\n",
       "trestbps    0.153849\n",
       "chol        0.067350\n",
       "fbs         0.000192\n",
       "thalach    -0.430108\n",
       "Name: target, dtype: float64"
      ]
     },
     "execution_count": 14,
     "metadata": {},
     "output_type": "execute_result"
    }
   ],
   "source": [
    "# Create a correlation matrix to initially see how the columns are related to target\n",
    "corrmat = heartdisease.corr()\n",
    "corrmat['target'].sort_values(ascending = False)"
   ]
  },
  {
   "cell_type": "code",
   "execution_count": 15,
   "metadata": {},
   "outputs": [
    {
     "data": {
      "text/plain": [
       "<matplotlib.axes._subplots.AxesSubplot at 0x18e237a3048>"
      ]
     },
     "execution_count": 15,
     "metadata": {},
     "output_type": "execute_result"
    },
    {
     "data": {
      "image/png": "[encoded data removed]",
      "text/plain": [
       "<Figure size 864x720 with 2 Axes>"
      ]
     },
     "metadata": {
      "needs_background": "light"
     },
     "output_type": "display_data"
    }
   ],
   "source": [
    "# Plotting the correlation to help visulize by coloring\n",
    "mask = np.zeros_like(corrmat)\n",
    "mask[np.triu_indices_from(mask)] = True\n",
    "# graph correlation plot\n",
    "fig, ax = plt.subplots(figsize=(12,10))\n",
    "sns.heatmap(corrmat, mask = mask , annot=True, cmap='RdBu_r')"
   ]
  },
  {
   "cell_type": "markdown",
   "metadata": {},
   "source": [
    "**Observation:** While a number of factors has coefficient around 0.3 to 0.5. Below are the factors that tend to have less influence on heart disease\n",
    "- age, sex, trestbps, chol, fbs, restecg"
   ]
  },
  {
   "cell_type": "markdown",
   "metadata": {},
   "source": [
    "## Distribution"
   ]
  },
  {
   "cell_type": "markdown",
   "metadata": {},
   "source": [
    "Next, the distribution of the attributes are checked. The distribution of each column is plotted grouped by target. This is to see if those with heart disease and those without heart disease have some characteristic within the features, for example men tends to have higher chance of having heart disease. Those with numerical categories are plotted using 100% stacked bar where within each group the data is grouped by target."
   ]
  },
  {
   "cell_type": "code",
   "execution_count": 16,
   "metadata": {},
   "outputs": [
    {
     "name": "stderr",
     "output_type": "stream",
     "text": [
      "C:\\Users\\dsouz\\Anaconda3\\lib\\site-packages\\scipy\\stats\\stats.py:1713: FutureWarning: Using a non-tuple sequence for multidimensional indexing is deprecated; use `arr[tuple(seq)]` instead of `arr[seq]`. In the future this will be interpreted as an array index, `arr[np.array(seq)]`, which will result either in an error or a different result.\n",
      "  return np.add.reduce(sorted[indexer] * weights, axis=axis) / sumval\n"
     ]
    },
    {
     "data": {
      "text/plain": [
       "<matplotlib.legend.Legend at 0x18e23fd3320>"
      ]
     },
     "execution_count": 16,
     "metadata": {},
     "output_type": "execute_result"
    },
    {
     "data": {
      "image/png": "[encoded data removed]",
      "text/plain": [
       "<Figure size 1440x1440 with 13 Axes>"
      ]
     },
     "metadata": {
      "needs_background": "light"
     },
     "output_type": "display_data"
    }
   ],
   "source": [
    "fig = plt.figure(figsize=(20,20))\n",
    "# Age\n",
    "ax1 = fig.add_subplot(4,4,1)\n",
    "sns.distplot(heartdisease[heartdisease['target']==0]['age'], hist = False, kde=True\n",
    "             , kde_kws = {'shade': True}, color='darkblue')\n",
    "sns.distplot(heartdisease[heartdisease['target']!=0]['age'], hist = False, kde=True\n",
    "             , kde_kws = {'shade': True}, color='darkred')\n",
    "plt.axvline(heartdisease[heartdisease['target']==0]['age'].median(), color='darkblue'\n",
    "            , linestyle='dashed', linewidth=2)\n",
    "plt.axvline(heartdisease[heartdisease['target']!=0]['age'].median(), color='darkred'\n",
    "            , linestyle='dashed', linewidth=2)\n",
    "plt.title('Age distribution plot grouped by target')\n",
    "\n",
    "# Sex\n",
    "ax2 = fig.add_subplot(4,4,2)\n",
    "target0 = np.array([heartdisease.groupby(['sex'])['target'].value_counts().sort_index()[0][0]\n",
    "                    , heartdisease.groupby(['sex'])['target'].value_counts().sort_index()[1][0]])\n",
    "target1 = np.array([heartdisease.groupby(['sex'])['target'].value_counts().sort_index()[0][1]\n",
    "                    , heartdisease.groupby(['sex'])['target'].value_counts().sort_index()[1][1]])\n",
    "\n",
    "sums = target0+target1\n",
    "target0 = target0/sums*100\n",
    "target1 = target1/sums*100\n",
    "\n",
    "ax2.bar(['Female','Male'],target0, label= 'target=0', color='darkblue')\n",
    "ax2.bar(['Female','Male'],target1, bottom = target0,label= 'target=1',color='darkred')\n",
    "\n",
    "for xpos, ypos, yval in zip(['Female','Male'], target0/2, target0):\n",
    "    plt.text(xpos, ypos, \"%.1f\"%yval, ha=\"center\", va=\"center\", color='white', fontsize=14)\n",
    "for xpos, ypos, yval in zip(['Female','Male'], target0+target1/2, target1):\n",
    "    plt.text(xpos, ypos, \"%.1f\"%yval, ha=\"center\", va=\"center\", color='white', fontsize=14)\n",
    "plt.title('Percentage of target based on sex')\n",
    "\n",
    "# Chest Pain\n",
    "ax3 = fig.add_subplot(4,4,3)\n",
    "target0 = np.array([heartdisease.groupby(['cp'])['target'].value_counts().sort_index()[1][0]\n",
    "                    ,heartdisease.groupby(['cp'])['target'].value_counts().sort_index()[2][0],\n",
    "                   heartdisease.groupby(['cp'])['target'].value_counts().sort_index()[3][0]\n",
    "                    , heartdisease.groupby(['cp'])['target'].value_counts().sort_index()[4][0]])\n",
    "target1 = np.array([heartdisease.groupby(['cp'])['target'].value_counts().sort_index()[1][1]\n",
    "                    ,heartdisease.groupby(['cp'])['target'].value_counts().sort_index()[2][1],\n",
    "                   heartdisease.groupby(['cp'])['target'].value_counts().sort_index()[3][1]\n",
    "                    , heartdisease.groupby(['cp'])['target'].value_counts().sort_index()[4][1]])\n",
    "\n",
    "sums = target0+target1\n",
    "target0 = target0/sums*100\n",
    "target1 = target1/sums*100\n",
    "\n",
    "ax3.bar([1,2,3,4],target0, label= 'target=0', color='darkblue')\n",
    "ax3.bar([1,2,3,4],target1, bottom = target0,label= 'target=1',color='darkred')\n",
    "plt.title('Percentage of target based on chest pain')\n",
    "\n",
    "for xpos, ypos, yval in zip([1,2,3,4], target0/2, target0):\n",
    "    plt.text(xpos, ypos, \"%.1f\"%yval, ha=\"center\", va=\"center\", color='white', fontsize=14)\n",
    "\n",
    "for xpos, ypos, yval in zip([1,2,3,4], target0+target1/2, target1):\n",
    "    plt.text(xpos, ypos, \"%.1f\"%yval, ha=\"center\", va=\"center\", color='white', fontsize=14)\n",
    "\n",
    "# Resting blood pressure\n",
    "ax4 = fig.add_subplot(4,4,5)\n",
    "sns.distplot(heartdisease[heartdisease['target']==0]['trestbps'], hist = False, kde=True\n",
    "             , kde_kws = {'shade': True}, color='darkblue')\n",
    "sns.distplot(heartdisease[heartdisease['target']!=0]['trestbps'], hist = False, kde=True\n",
    "             , kde_kws = {'shade': True}, color='darkred')\n",
    "\n",
    "plt.axvline(heartdisease[heartdisease['target']==0]['trestbps'].median(), color='darkblue', linestyle='dashed'\n",
    "            , linewidth=2)\n",
    "plt.axvline(heartdisease[heartdisease['target']!=0]['trestbps'].median(), color='darkred', linestyle='dashed'\n",
    "            , linewidth=2)\n",
    "\n",
    "plt.title('trestbps distribution plot grouped by target')\n",
    "\n",
    "#fbs\n",
    "ax6 = fig.add_subplot(4,4,4)\n",
    "target0 = np.array([heartdisease.groupby(['fbs'])['target'].value_counts().sort_index()[0][0]\n",
    "                    , heartdisease.groupby(['fbs'])['target'].value_counts().sort_index()[1][0]])\n",
    "target1 = np.array([heartdisease.groupby(['fbs'])['target'].value_counts().sort_index()[0][1]\n",
    "                    , heartdisease.groupby(['fbs'])['target'].value_counts().sort_index()[1][1]])\n",
    "\n",
    "sums = target0+target1\n",
    "target0 = target0/sums*100\n",
    "target1 = target1/sums*100\n",
    "\n",
    "ax6.bar(['0','1'],target0, label= 'target=0', color='darkblue')\n",
    "ax6.bar(['0','1'],target1, bottom = target0,label= 'target=1',color='darkred')\n",
    "\n",
    "for xpos, ypos, yval in zip(np.arange(2), target0/2, target0):\n",
    "    plt.text(xpos, ypos, \"%.1f\"%yval, ha=\"center\", va=\"center\", color='white', fontsize=14)\n",
    "\n",
    "for xpos, ypos, yval in zip(np.arange(2), target0+target1/2, target1):\n",
    "    plt.text(xpos, ypos, \"%.1f\"%yval, ha=\"center\", va=\"center\", color='white', fontsize=14)\n",
    "plt.title('Percentage of target based on fbs')\n",
    "\n",
    "#restecg\n",
    "ax7 = fig.add_subplot(4,4,6)\n",
    "target0 = np.array([heartdisease.groupby(['restecg'])['target'].value_counts().sort_index()[0][0]\n",
    "                    , heartdisease.groupby(['restecg'])['target'].value_counts().sort_index()[1][0],\n",
    "                    heartdisease.groupby(['restecg'])['target'].value_counts().sort_index()[2][0]])\n",
    "target1 = np.array([heartdisease.groupby(['restecg'])['target'].value_counts().sort_index()[0][1]\n",
    "                    , heartdisease.groupby(['restecg'])['target'].value_counts().sort_index()[1][1],\n",
    "                   heartdisease.groupby(['restecg'])['target'].value_counts().sort_index()[2][0]])\n",
    "\n",
    "sums = target0+target1\n",
    "target0 = target0/sums*100\n",
    "target1 = target1/sums*100\n",
    "\n",
    "ax7.bar(['0','1','2'],target0, label= 'target=0', color='darkblue')\n",
    "ax7.bar(['0','1','2'],target1, bottom = target0,label= 'target=1',color='darkred')\n",
    "for xpos, ypos, yval in zip(['0','1','2'], target0/2, target0):\n",
    "    plt.text(xpos, ypos, \"%.1f\"%yval, ha=\"center\", va=\"center\", color='white', fontsize=14)\n",
    "\n",
    "for xpos, ypos, yval in zip(['0','1','2'], target0+target1/2, target1):\n",
    "    plt.text(xpos, ypos, \"%.1f\"%yval, ha=\"center\", va=\"center\", color='white', fontsize=14)\n",
    "\n",
    "plt.title('Percentage of target based on restecg')\n",
    "\n",
    "# thalach\n",
    "ax8 = fig.add_subplot(4,4,7)\n",
    "sns.distplot(heartdisease[heartdisease['target']==0]['thalach'], hist = True, kde=False\n",
    "             , kde_kws = {'shade': True}, color='darkblue')\n",
    "sns.distplot(heartdisease[heartdisease['target']!=0]['thalach'], hist = True, kde=False\n",
    "             , kde_kws = {'shade': True}, color='darkred')\n",
    "\n",
    "plt.axvline(heartdisease[heartdisease['target']==0]['thalach'].median(), color='darkblue', linestyle='dashed'\n",
    "            , linewidth=2)\n",
    "plt.axvline(heartdisease[heartdisease['target']!=0]['thalach'].median(), color='darkred', linestyle='dashed'\n",
    "            , linewidth=2)\n",
    "plt.title('thalach distribution plot grouped by target')\n",
    "\n",
    "#exang\n",
    "ax8 = fig.add_subplot(4,4,8)\n",
    "target0 = np.array([heartdisease.groupby(['exang'])['target'].value_counts().sort_index()[0][0]\n",
    "                    , heartdisease.groupby(['exang'])['target'].value_counts().sort_index()[1][0]])\n",
    "target1 = np.array([heartdisease.groupby(['exang'])['target'].value_counts().sort_index()[0][1]\n",
    "                    , heartdisease.groupby(['exang'])['target'].value_counts().sort_index()[1][1]])\n",
    "\n",
    "sums = target0+target1\n",
    "target0 = target0/sums*100\n",
    "target1 = target1/sums*100\n",
    "\n",
    "ax8.bar(['0','1'],target0, label= 'target=0', color='darkblue')\n",
    "ax8.bar(['0','1'],target1, bottom = target0,label= 'target=1',color='darkred')\n",
    "for xpos, ypos, yval in zip(['0','1'], target0/2, target0):\n",
    "    plt.text(xpos, ypos, \"%.1f\"%yval, ha=\"center\", va=\"center\", color='white', fontsize=14)\n",
    "\n",
    "for xpos, ypos, yval in zip(['0','1'], target0+target1/2, target1):\n",
    "    plt.text(xpos, ypos, \"%.1f\"%yval, ha=\"center\", va=\"center\", color='white', fontsize=14)\n",
    "\n",
    "plt.title('Percentage of target based on exang')\n",
    "\n",
    "#chol\n",
    "ax9 = fig.add_subplot(4,4,9)\n",
    "sns.distplot(heartdisease[heartdisease['target']==0]['chol'], hist = False, kde=True\n",
    "             , kde_kws = {'shade': True}, color='darkblue')\n",
    "sns.distplot(heartdisease[heartdisease['target']!=0]['chol'], hist = False, kde=True\n",
    "             , kde_kws = {'shade': True}, color='darkred')\n",
    "\n",
    "plt.axvline(heartdisease[heartdisease['target']==0]['chol'].median(), color='darkblue', linestyle='dashed'\n",
    "            , linewidth=2)\n",
    "plt.axvline(heartdisease[heartdisease['target']!=0]['chol'].median(), color='darkred', linestyle='dashed'\n",
    "            , linewidth=2)\n",
    "plt.title('chol distribution plot grouped by target')\n",
    "\n",
    "\n",
    "# oldpeak\n",
    "ax8 = fig.add_subplot(4,4,10)\n",
    "sns.distplot(heartdisease[heartdisease['target']==0]['oldpeak'], hist = True, kde=False\n",
    "             , kde_kws = {'shade': True}, color='darkblue')\n",
    "sns.distplot(heartdisease[heartdisease['target']!=0]['oldpeak'], hist = True, kde=False\n",
    "             , kde_kws = {'shade': True}, color='darkred')\n",
    "\n",
    "plt.axvline(heartdisease[heartdisease['target']==0]['oldpeak'].median(), color='darkblue', linestyle='dashed'\n",
    "            , linewidth=2)\n",
    "plt.axvline(heartdisease[heartdisease['target']!=0]['oldpeak'].median(), color='darkred', linestyle='dashed'\n",
    "            , linewidth=2)\n",
    "plt.title('oldpeak distribution plot grouped by target')\n",
    "\n",
    "# slope\n",
    "ax9 = fig.add_subplot(4,4,11)\n",
    "target0 = np.array([heartdisease.groupby(['slope'])['target'].value_counts().sort_index()[1][0]\n",
    "                    , heartdisease.groupby(['slope'])['target'].value_counts().sort_index()[2][0],\n",
    "                   heartdisease.groupby(['slope'])['target'].value_counts().sort_index()[3][0]])\n",
    "target1 = np.array([heartdisease.groupby(['slope'])['target'].value_counts().sort_index()[1][1]\n",
    "                    , heartdisease.groupby(['slope'])['target'].value_counts().sort_index()[2][1],\n",
    "                    heartdisease.groupby(['slope'])['target'].value_counts().sort_index()[3][1]])\n",
    "\n",
    "sums = target0+target1\n",
    "target0 = target0/sums*100\n",
    "target1 = target1/sums*100\n",
    "\n",
    "ax9.bar(['1','2','3'],target0, label= 'target=0', color='darkblue')\n",
    "ax9.bar(['1','2','3'],target1, bottom = target0,label= 'target=1',color='darkred')\n",
    "for xpos, ypos, yval in zip(['1','2','3'], target0/2, target0):\n",
    "    plt.text(xpos, ypos, \"%.1f\"%yval, ha=\"center\", va=\"center\", color='white', fontsize=14)\n",
    "\n",
    "for xpos, ypos, yval in zip(['1','2','3'], target0+target1/2, target1):\n",
    "    plt.text(xpos, ypos, \"%.1f\"%yval, ha=\"center\", va=\"center\", color='white', fontsize=14)\n",
    "\n",
    "plt.title('Percentage of target based on slope')\n",
    "\n",
    "# ca\n",
    "ax10 = fig.add_subplot(4,4,12)\n",
    "target0 = np.array([heartdisease.groupby(['ca'])['target'].value_counts().sort_index()[0][0]\n",
    "                    , heartdisease.groupby(['ca'])['target'].value_counts().sort_index()[1][0],\n",
    "                   heartdisease.groupby(['ca'])['target'].value_counts().sort_index()[2][0]\n",
    "                    ,heartdisease.groupby(['ca'])['target'].value_counts().sort_index()[3][0]])\n",
    "target1 = np.array([heartdisease.groupby(['ca'])['target'].value_counts().sort_index()[0][1]\n",
    "                    , heartdisease.groupby(['ca'])['target'].value_counts().sort_index()[1][1],\n",
    "                   heartdisease.groupby(['ca'])['target'].value_counts().sort_index()[2][1]\n",
    "                    ,heartdisease.groupby(['ca'])['target'].value_counts().sort_index()[3][1]])\n",
    "\n",
    "sums = target0+target1\n",
    "target0 = target0/sums*100\n",
    "target1 = target1/sums*100\n",
    "\n",
    "ax10.bar(np.arange(4),target0, label= 'target=0', color='darkblue')\n",
    "ax10.bar(np.arange(4),target1, bottom = target0,label= 'target=1',color='darkred')\n",
    "for xpos, ypos, yval in zip(np.arange(4), target0/2, target0):\n",
    "    plt.text(xpos, ypos, \"%.1f\"%yval, ha=\"center\", va=\"center\", color='white', fontsize=14)\n",
    "\n",
    "for xpos, ypos, yval in zip(np.arange(4), target0+target1/2, target1):\n",
    "    plt.text(xpos, ypos, \"%.1f\"%yval, ha=\"center\", va=\"center\", color='white', fontsize=14)\n",
    "\n",
    "plt.title('Percentage of target based on ca')\n",
    "\n",
    "ax11 = fig.add_subplot(4,4,13)\n",
    "target0 = np.array([heartdisease.groupby(['thal'])['target'].value_counts().sort_index()[3][0]\n",
    "                    , heartdisease.groupby(['thal'])['target'].value_counts().sort_index()[6][0],\n",
    "                   heartdisease.groupby(['thal'])['target'].value_counts().sort_index()[7][0]])\n",
    "target1 = np.array([heartdisease.groupby(['thal'])['target'].value_counts().sort_index()[3][1]\n",
    "                    , heartdisease.groupby(['thal'])['target'].value_counts().sort_index()[6][1],\n",
    "                   heartdisease.groupby(['thal'])['target'].value_counts().sort_index()[7][1]])\n",
    "\n",
    "sums = target0+target1\n",
    "target0 = target0/sums*100\n",
    "target1 = target1/sums*100\n",
    "\n",
    "ax11.bar(['3','6','7'],target0, label= 'target=0', color='darkblue')\n",
    "ax11.bar(['3','6','7'],target1, bottom = target0,label= 'target=1',color='darkred')\n",
    "for xpos, ypos, yval in zip(['3','6','7'], target0/2, target0):\n",
    "    plt.text(xpos, ypos, \"%.1f\"%yval, ha=\"center\", va=\"center\", color='white', fontsize=14)\n",
    "\n",
    "for xpos, ypos, yval in zip(['3','6','7'], target0+target1/2, target1):\n",
    "    plt.text(xpos, ypos, \"%.1f\"%yval, ha=\"center\", va=\"center\", color='white', fontsize=14)\n",
    "\n",
    "plt.title('Percentage of target based on thal')\n",
    "fig.legend(labels = ['Target = 0','Target = 1'], loc = 'center right', fontsize = 15)"
   ]
  },
  {
   "cell_type": "markdown",
   "metadata": {},
   "source": [
    "**Observation**\n",
    "- **Age:** Those with heart disease shows higher age. The older a person, the higher the risk of having a heart disease<br>\n",
    "- **Sex:** Men has higher potential on having a heart disease<br>\n",
    "- **cp (chest pain):** Asymptomatic chest pain seems to have more influence on having a heart disease<br>\n",
    "- **restecg:** restecg category 1 shows higher possibility of having a heart disease meaning if a person has ST-T wave abnormality, there is potential that he could have a heart disease<br>\n",
    "- **thalach:** those with lower thalach has higher possibility of having heart disease<br>\n",
    "- **exang:** Those with anginal pain induced during exercise (exhang = 1) tend to have higher possibilities of having heart disease<br>\n",
    "- **chol:** There is not much different but potential higher chol lead to higher risk of having heart disease<br>\n",
    "- **oldpeak:** Higher value on oldpeak, higher risk<br>\n",
    "- **slope:** if the slope is flat or downward, there is higher potential for a person to have heart disease<br>\n",
    "- **ca:** The higher the number of vessel colored by flourosopy, the higher chance of having a heart disease<br>\n",
    "- **thal:** Having thalassemia defect either fixed or reversable would contribute to having a heart disease"
   ]
  },
  {
   "cell_type": "markdown",
   "metadata": {},
   "source": [
    "# Data Modeling"
   ]
  },
  {
   "cell_type": "code",
   "execution_count": 17,
   "metadata": {},
   "outputs": [],
   "source": [
    "# Assign the input (features) to variable X and assign the target (output) to variable y\n",
    "X = heartdisease.iloc[:,:-1]\n",
    "y = heartdisease['target']"
   ]
  },
  {
   "cell_type": "markdown",
   "metadata": {},
   "source": [
    "## Split the dataset into train and test\n",
    "For the purpose of training and validating, the dataset is divided into 80% for training and 20% for testing. The random_state is set as 10 to make sure everytime the code runs, the same samples are in both set."
   ]
  },
  {
   "cell_type": "code",
   "execution_count": 18,
   "metadata": {},
   "outputs": [],
   "source": [
    "X_train, X_test, y_train, y_test = train_test_split(X, y, test_size = 0.2 , random_state = 10)"
   ]
  },
  {
   "cell_type": "code",
   "execution_count": null,
   "metadata": {},
   "outputs": [],
   "source": [
    "# Check the shape of the dataset\n",
    "print('The shape of the input training set is {}'.format(X_train.shape))\n",
    "print('The shape of the output training set is {}'.format(y_train.shape))\n",
    "print('The shape of the input testing set is {}'.format(X_test.shape))\n",
    "print('The shape of the output testing set is {}'.format(y_test.shape))"
   ]
  },
  {
   "cell_type": "markdown",
   "metadata": {},
   "source": [
    " "
   ]
  },
  {
   "cell_type": "markdown",
   "metadata": {},
   "source": [
    "**Check distribution of the target in train and test data set**"
   ]
  },
  {
   "cell_type": "code",
   "execution_count": null,
   "metadata": {},
   "outputs": [],
   "source": [
    "fig = plt.figure(figsize=(10,5))\n",
    "ax1 = fig.add_subplot(1,2,1)\n",
    "ax2 = fig.add_subplot(1,2,2)\n",
    "ax1.bar(['No','Yes'], height= y_train.value_counts().sort_index(), color = ['darkblue','darkred'])\n",
    "ax1.set_title('Train')\n",
    "ax1.set_xlabel('Target')\n",
    "ax2.bar(['No','Yes'], height= y_test.value_counts().sort_index(), color = ['darkblue','darkred'])\n",
    "ax2.set_title('Test')\n",
    "ax2.set_xlabel('Target')"
   ]
  },
  {
   "cell_type": "markdown",
   "metadata": {},
   "source": [
    "## Logistic Regression"
   ]
  },
  {
   "cell_type": "markdown",
   "metadata": {},
   "source": [
    "Logistic Regression is a regression analysis commonly used for predicting binary categorical. Thus, it is appropriate to apply in this problem. Before fitting the model, RFE method is used to select the features to put in the model. After trying for different number of features, it appears that the best accuracy is achieved with 13 features in the model. The following are the accuracy of the model at different number of selected features:\n",
    "- 5 features: accuracy = 0.77\n",
    "- 6 features: accuracy = 0.82\n",
    "- 7, 8, 10 features: accuracy = 0.83\n",
    "- 9, 11, 12 features: accuracy = 0.85\n",
    "- 13 features: accuracy = 0.87\n",
    "\n",
    "Therefore, all the 13 features is put into the model"
   ]
  },
  {
   "cell_type": "markdown",
   "metadata": {},
   "source": [
    "**Feature Selection (RFE)**"
   ]
  },
  {
   "cell_type": "code",
   "execution_count": null,
   "metadata": {},
   "outputs": [],
   "source": [
    "log_model = LogisticRegression(solver='lbfgs', max_iter=1000, random_state=0)\n",
    "rfe = RFE(log_model,13)\n",
    "rfe = rfe.fit(X_train, y_train.values.ravel())\n",
    "print(rfe.support_) # support is the mask of selected features\n",
    "print(rfe.ranking_) # ranking is the rank of the feature, 1 = selected"
   ]
  },
  {
   "cell_type": "code",
   "execution_count": null,
   "metadata": {},
   "outputs": [],
   "source": [
    "# Assign selected features into another variable to use in indexing column\n",
    "selected_col = X_train.columns[list(rfe.support_)]\n",
    "selected_col"
   ]
  },
  {
   "cell_type": "code",
   "execution_count": null,
   "metadata": {},
   "outputs": [],
   "source": [
    "# Fit the Logit model to see how each feature has an impact on the target variable by looking at coefficient\n",
    "logit_model = sm.Logit(y_train,X_train[selected_col])\n",
    "result = logit_model.fit()\n",
    "print(result.summary2())"
   ]
  },
  {
   "cell_type": "markdown",
   "metadata": {},
   "source": [
    "From the table above, it appears that only a few variables (sex, thalach, ca, thal) is statistically significant (p-value < 0.05). The impact of the variable on the odd can be seen in the coef. To illustrate, considering sex has coefficient of 1.0323, it is explained as if a person is a male, then the odd of having heart disease will increase by 1.0323 and the opposite for female. With thalach (max heart rate achieved), if the max heart rate increase by 1 unit, the odd will reduce by -0.0334."
   ]
  },
  {
   "cell_type": "code",
   "execution_count": null,
   "metadata": {},
   "outputs": [],
   "source": [
    "log_model.fit(X_train[selected_col], y_train)\n",
    "log_y_pred = log_model.predict(X_test[selected_col])"
   ]
  },
  {
   "cell_type": "markdown",
   "metadata": {},
   "source": [
    "### Accuracy"
   ]
  },
  {
   "cell_type": "code",
   "execution_count": null,
   "metadata": {},
   "outputs": [],
   "source": [
    "print('Accuracy of logistic classifier on test set:{:.2f}'.format(\n",
    "     accuracy_score(y_test, log_y_pred)))\n",
    "log_conf_mat = confusion_matrix(y_test, log_y_pred)\n",
    "print(log_conf_mat)"
   ]
  },
  {
   "cell_type": "code",
   "execution_count": null,
   "metadata": {},
   "outputs": [],
   "source": [
    "logit_roc_auc = roc_auc_score(y_test, log_y_pred)\n",
    "fpr, tpr, thresholds = roc_curve(y_test, log_model.predict_proba(X_test[selected_col])[:,1])\n",
    "plt.figure()\n",
    "plt.plot(fpr, tpr, label = 'Logistic Regression (ares = %0.2f)' % logit_roc_auc)\n",
    "plt.plot([0, 1], [0, 1], 'r--')\n",
    "plt.xlim([0.0, 1.0])\n",
    "plt.ylim([0.0, 1.05])\n",
    "plt.xlabel(\"False Positive Rate\")\n",
    "plt.ylabel(\"True Positive Rate\")\n",
    "plt.title('Receiver operating characteristic')\n",
    "plt.legend(loc = 'lower right')\n",
    "plt.savefig('log_ROC', dpi=600)\n",
    "plt.show()"
   ]
  },
  {
   "cell_type": "markdown",
   "metadata": {},
   "source": [
    "## Another way to see the accuracy of the model is to look at 'Area Under the Curve' of ROC. Here the result is 0.88 which is acceptable for the first model."
   ]
  },
  {
   "cell_type": "markdown",
   "metadata": {},
   "source": [
    "## Random Forest"
   ]
  },
  {
   "cell_type": "markdown",
   "metadata": {},
   "source": [
    "This is an ensemble learning technique called bagging. Instead of building just a tree (decision tree), multiple tree is built and they are later combined together to get a prediction. This is why it is called forest. Forest combines weak learner to obtain a more powerful model. Random forest is different than bagging tree model because rather than choosing specific variable to split at each node, random forest randomly pick variable to split thus it is called Random Forest."
   ]
  },
  {
   "cell_type": "code",
   "execution_count": null,
   "metadata": {},
   "outputs": [],
   "source": [
    "# First create parameter grid to use later in finding which value is the best for each parameter for random forest\n",
    "rf_param_grid = {\n",
    "                 'max_depth' : [4,6,8,10,13],\n",
    "                 'n_estimators': range(1,50),\n",
    "                 'max_features': ['sqrt', 'auto', 'log2'],\n",
    "                 'min_samples_split': [2,3,10,20,22],\n",
    "                 'min_samples_leaf': [1,3,10],\n",
    "                 'bootstrap': [True, False],\n",
    "                 }\n",
    "\n",
    "# Create classifier\n",
    "rf_model = RandomForestClassifier(random_state=10)"
   ]
  },
  {
   "cell_type": "code",
   "execution_count": null,
   "metadata": {},
   "outputs": [],
   "source": [
    "# Use RandomizedSearchCV to find the best parameter\n",
    "rf_model_r = RandomizedSearchCV(param_distributions=rf_param_grid, \n",
    "                                    estimator = rf_model, scoring = \"accuracy\", \n",
    "                                    verbose = 0, n_iter = 100, cv = 5, random_state=10)\n",
    "\n",
    "# Fit the data\n",
    "rf_model_r.fit(X_train,y_train)"
   ]
  },
  {
   "cell_type": "code",
   "execution_count": null,
   "metadata": {},
   "outputs": [],
   "source": [
    "# Get the best score and best parameter of the model\n",
    "print(\"best score\",rf_model_r.best_score_)\n",
    "print(\"best parameter\",rf_model_r.best_params_)"
   ]
  },
  {
   "cell_type": "code",
   "execution_count": null,
   "metadata": {},
   "outputs": [],
   "source": [
    "# Fit the model with the best parameter\n",
    "rf_classifier = RandomForestClassifier(n_estimators = rf_model_r.best_params_['n_estimators'],\n",
    "                                      min_samples_split = rf_model_r.best_params_['min_samples_split'] ,\n",
    "                                      min_samples_leaf = rf_model_r.best_params_['min_samples_leaf'],\n",
    "                                      max_features = rf_model_r.best_params_['max_features'],\n",
    "                                      max_depth = rf_model_r.best_params_['max_depth'],\n",
    "                                      bootstrap = rf_model_r.best_params_['bootstrap'],\n",
    "                                      random_state=10)"
   ]
  },
  {
   "cell_type": "code",
   "execution_count": null,
   "metadata": {},
   "outputs": [],
   "source": [
    "# Fit the data into the classifier initiated above\n",
    "rf_classifier.fit(X_train,y_train)\n",
    "# Predict on the test data to see how well the model performs\n",
    "rf_y_pred = rf_classifier.predict(X_test)"
   ]
  },
  {
   "cell_type": "markdown",
   "metadata": {},
   "source": [
    "### Accuracy"
   ]
  },
  {
   "cell_type": "code",
   "execution_count": null,
   "metadata": {},
   "outputs": [],
   "source": [
    "rf_conf_mat = confusion_matrix(y_test, rf_y_pred)\n",
    "print(rf_conf_mat)\n",
    "print('Accuracy of Random Forest classifier on test set:{:.2f}'.format(accuracy_score(y_test,rf_y_pred)))"
   ]
  },
  {
   "cell_type": "code",
   "execution_count": null,
   "metadata": {},
   "outputs": [],
   "source": [
    "rf_roc_auc = roc_auc_score(y_test, rf_y_pred)\n",
    "fpr, tpr, thresholds = roc_curve(y_test, rf_classifier.predict_proba(X_test)[:,1])\n",
    "plt.figure()\n",
    "plt.plot(fpr, tpr, label = 'Random Forest (area = %0.3f)' % rf_roc_auc)\n",
    "plt.plot([0, 1], [0, 1], 'r--')\n",
    "plt.xlim([0.0, 1.0])\n",
    "plt.ylim([0.0, 1.05])\n",
    "plt.xlabel(\"False Positive Rate\")\n",
    "plt.ylabel(\"True Positive Rate\")\n",
    "plt.title('Receiver operating characteristic')\n",
    "plt.legend(loc = 'lower right')\n",
    "plt.savefig('rf_roc', dpi=600)\n",
    "plt.show()"
   ]
  },
  {
   "cell_type": "markdown",
   "metadata": {},
   "source": [
    "**Feature Importance**<br>\n",
    "The importance of the features is calculated from how much the error function drops at each node. The decrease in error is averaged among the tree and the higher the drop in error for each feature is the more importance the feature is."
   ]
  },
  {
   "cell_type": "code",
   "execution_count": null,
   "metadata": {},
   "outputs": [],
   "source": [
    "rf_classifier.feature_importances_"
   ]
  },
  {
   "cell_type": "code",
   "execution_count": null,
   "metadata": {},
   "outputs": [],
   "source": [
    "pd.Series(rf_classifier.feature_importances_, index=X.columns).sort_values().plot(kind='barh',\n",
    "                                                                                  title='Random Forest Feature Importance')\n",
    "plt.savefig('rf_features', dpi=600)\n"
   ]
  },
  {
   "cell_type": "markdown",
   "metadata": {},
   "source": [
    "Random forest classifier obtains the accuracy of 0.84. With Random forest classifier, one can retrievs the level of importance of each feature which helps in understanding the model. The top 5 features is thal, thalach, ca, oldpeak and cp."
   ]
  },
  {
   "cell_type": "markdown",
   "metadata": {},
   "source": [
    "## Gradient Boosting Classifier"
   ]
  },
  {
   "cell_type": "markdown",
   "metadata": {},
   "source": [
    "This is another ensemble learning however instead of bagging, it uses boosting. Boosting improves the model accuracy by creating the final model based on a combination of previous model. The models are built in sequential and the current model learns from the previous model. Gradient is used to minimize the loss function and it is calculated by each model residual."
   ]
  },
  {
   "cell_type": "markdown",
   "metadata": {},
   "source": [
    "**Choosing learning rate**"
   ]
  },
  {
   "cell_type": "code",
   "execution_count": null,
   "metadata": {},
   "outputs": [],
   "source": [
    "# Create a list with learning rate to see at which learning rate the model obtain the highest accuracy\n",
    "learning_rate = [0.01, 0.01011, 0.0102, 0.01013, 0.011]\n",
    "\n",
    "# Create a loop to loop over the rate and get the accuracy score for each rate.\n",
    "for l in learning_rate:\n",
    "    gb = GradientBoostingClassifier(n_estimators=27, learning_rate=l, max_features=2, max_depth=10, random_state=10)\n",
    "    gb.fit(X_train, y_train)\n",
    "    \n",
    "    print(f'learning rate: {l}')\n",
    "    print(f'Accuracy Score (training): {gb.score(X_train, y_train)}')\n",
    "    print(f'Accuracy Score (validation): {gb.score(X_test, y_test)}')\n",
    "    print('\\n')"
   ]
  },
  {
   "cell_type": "markdown",
   "metadata": {},
   "source": [
    "The result above shows that at learning rate 0.01013, the model obtains highest accuracy (0.9). Noted that the list of the learning rate is obtained from plugin in the numbers and see how the accuracy improves when the rate changes.<br>"
   ]
  },
  {
   "cell_type": "markdown",
   "metadata": {},
   "source": [
    "**Fitting model with selected learning rate**"
   ]
  },
  {
   "cell_type": "code",
   "execution_count": null,
   "metadata": {},
   "outputs": [],
   "source": [
    "gb2 = GradientBoostingClassifier(n_estimators=27, learning_rate=0.01013, max_features=2, max_depth=10,random_state=10)\n",
    "gb2.fit(X_train, y_train)\n",
    "gb_pred = gb2.predict(X_test)"
   ]
  },
  {
   "cell_type": "markdown",
   "metadata": {},
   "source": [
    "### Accuracy"
   ]
  },
  {
   "cell_type": "code",
   "execution_count": null,
   "metadata": {},
   "outputs": [],
   "source": [
    "print('Confusion Matrix:')\n",
    "print(confusion_matrix(y_test, gb_pred))\n",
    "\n",
    "print('Classification report')\n",
    "print(classification_report(y_test, gb_pred))\n",
    "\n",
    "print('Accuracy of Gradient Boosting classifier on test set:{:.2f}'.format(accuracy_score(y_test,gb_pred)))"
   ]
  },
  {
   "cell_type": "code",
   "execution_count": null,
   "metadata": {},
   "outputs": [],
   "source": [
    "gb_roc_auc = roc_auc_score(y_test, gb_pred)\n",
    "fpr, tpr, thresholds = roc_curve(y_test, gb2.predict_proba(X_test)[:,1])\n",
    "plt.figure()\n",
    "plt.plot(fpr, tpr, label = 'Gradient Boosting (area = %0.3f)' % gb_roc_auc)\n",
    "plt.plot([0, 1], [0, 1], 'r--')\n",
    "plt.xlim([0.0, 1.0])\n",
    "plt.ylim([0.0, 1.05])\n",
    "plt.xlabel(\"False Positive Rate\")\n",
    "plt.ylabel(\"True Positive Rate\")\n",
    "plt.title('Receiver operating characteristic')\n",
    "plt.legend(loc = 'lower right')\n",
    "plt.savefig('gb_roc', dpi=600)\n",
    "plt.show()"
   ]
  },
  {
   "cell_type": "markdown",
   "metadata": {},
   "source": [
    "**Feature Importance**"
   ]
  },
  {
   "cell_type": "code",
   "execution_count": null,
   "metadata": {},
   "outputs": [],
   "source": [
    "pd.Series(gb2.feature_importances_, index=X.columns).sort_values().plot(kind='barh')\n",
    "plt.title('Gradient Boosting Feature Importance')\n",
    "plt.savefig('gb_feat.png',dpi=600)"
   ]
  },
  {
   "cell_type": "markdown",
   "metadata": {},
   "source": [
    "Gradient boosting classifier obtains the accuracy of 0.89. Similarly to random forest, the feature importance can be obtained. With gradient boosting, the top 5 feature are cp, thalach, ca, thal and oldpeak. The level of importance is different than the random forest model, howwever the top 5 features are the same."
   ]
  },
  {
   "cell_type": "markdown",
   "metadata": {},
   "source": [
    "## Neural Network "
   ]
  },
  {
   "cell_type": "markdown",
   "metadata": {},
   "source": [
    "A deep learning algorithm that mimics human brains. It has also been a solution to many problem such as imange recognition and image recognition. It would be interesting to see how neural network would perform in binary classification."
   ]
  },
  {
   "cell_type": "markdown",
   "metadata": {},
   "source": [
    "**Building the layers** (Rajeshjnv, 2019) <br>\n",
    "There are 3 layers, 1 input layer with 13 nodes with relu as an activation function, 1 hidden layer with 8 nodes with relu as an activation function, and 1 output layer with 1 node with sigmoid as an activation function. After the layers have been configureated. They are compiled with following parameter:\n",
    "- loss = binary_crossentropy because the output is in binary\n",
    "- optimizer = Adam(lr=0.0031101), the value in the parenthesis is the learning rate of the optimizer. The learning rate is manually change to see which value would provide higher accuracy\n",
    "- metrics = accuracy\n",
    "\n",
    "lr = 0.01, 0.001 acc:0.78<br>\n",
    "lr = 0.03 acc:0.73<br>\n",
    "lr = 0.003 acc:0.80<br>\n",
    "lr = 0.0031 acc:0.86<Br>"
   ]
  },
  {
   "cell_type": "code",
   "execution_count": null,
   "metadata": {},
   "outputs": [],
   "source": [
    "# Configurate layers\n",
    "nn_bimodel = Sequential([\n",
    "    Dense(13, activation = 'relu', input_dim = 13),\n",
    "    Dropout(0.2),\n",
    "    Dense(8, activation='relu'),\n",
    "    Dropout(0.2),\n",
    "    Dense(1, activation = 'sigmoid')\n",
    "])\n",
    "\n",
    "# Compile the model\n",
    "nn_bimodel.compile(loss = 'binary_crossentropy',\n",
    "                 optimizer = Adam(lr=0.0031),\n",
    "                 metrics = ['accuracy']\n",
    "                )"
   ]
  },
  {
   "cell_type": "markdown",
   "metadata": {},
   "source": [
    "**Fitting the model**"
   ]
  },
  {
   "cell_type": "code",
   "execution_count": null,
   "metadata": {},
   "outputs": [],
   "source": [
    "history_bi = nn_bimodel.fit(X_train, y_train, \n",
    "                           validation_data=(X_test, y_test), \n",
    "                           epochs=200, batch_size=10, verbose = 0)"
   ]
  },
  {
   "cell_type": "markdown",
   "metadata": {},
   "source": [
    "**Plotting the model accuracy and loss**"
   ]
  },
  {
   "cell_type": "code",
   "execution_count": null,
   "metadata": {},
   "outputs": [],
   "source": [
    "fig = plt.figure(figsize=(8,5))\n",
    "plt.subplot(2,1,1)\n",
    "plt.plot(history_bi.history['loss'], color='darkblue')\n",
    "plt.plot(history_bi.history['val_loss'], color='red')\n",
    "plt.title('Model loss')\n",
    "plt.ylabel('loss')\n",
    "plt.xlabel('epoch')\n",
    "plt.legend(['loss', 'val_loss'], loc='upper right')\n",
    "\n",
    "plt.subplot(2,1,2)\n",
    "plt.plot(history_bi.history['accuracy'], color='darkblue')\n",
    "plt.plot(history_bi.history['val_accuracy'], color = 'red')\n",
    "plt.title('Model accuracy')\n",
    "plt.ylabel('Accuracy')\n",
    "plt.xlabel('Epoch')\n",
    "plt.legend(['accuracy', 'val_accuracy'], loc='lower right')\n",
    "\n",
    "plt.tight_layout()\n",
    "plt.savefig('NNbi_acc.png', dpi=300)"
   ]
  },
  {
   "cell_type": "markdown",
   "metadata": {},
   "source": [
    "### Accuracy"
   ]
  },
  {
   "cell_type": "markdown",
   "metadata": {},
   "source": [
    "One observation from the model is that not every time the network obtain high accuracy. The accuracy changes everytime the model is fitted."
   ]
  },
  {
   "cell_type": "code",
   "execution_count": null,
   "metadata": {},
   "outputs": [],
   "source": [
    "acc_metrics = nn_bimodel.evaluate(\n",
    "  X_test,\n",
    "  y_test\n",
    ")\n",
    "\n",
    "print(\"Test Loss\", acc_metrics[0])\n",
    "print(\"Test Accuracy\", acc_metrics[1])"
   ]
  },
  {
   "cell_type": "markdown",
   "metadata": {},
   "source": [
    "<b>Prediction</b>"
   ]
  },
  {
   "cell_type": "code",
   "execution_count": null,
   "metadata": {},
   "outputs": [],
   "source": [
    "binary_pred = np.round(nn_bimodel.predict(X_test)).astype(int)\n",
    "print('Accuracy for Nueral Network')\n",
    "print(accuracy_score(y_test, binary_pred))\n",
    "print(classification_report(y_test, binary_pred))"
   ]
  },
  {
   "cell_type": "markdown",
   "metadata": {},
   "source": [
    "# Model Comparison"
   ]
  },
  {
   "cell_type": "code",
   "execution_count": null,
   "metadata": {},
   "outputs": [],
   "source": [
    "# Create a dataframe to store model accuracy\n",
    "accuracy = [log_model.score(X_test[selected_col], y_test)\n",
    ",accuracy_score(y_test,rf_y_pred)\n",
    ",accuracy_score(y_test,gb_pred)\n",
    ",accuracy_score(y_test, binary_pred)]\n",
    "\n",
    "model = ['Logistic Regression','Random Forest','Gradient Boosting','Neural Network']\n",
    "\n",
    "compare = pd.DataFrame(accuracy,columns=['accuracy'],index=model)\n",
    "round(compare,2)"
   ]
  },
  {
   "cell_type": "code",
   "execution_count": null,
   "metadata": {},
   "outputs": [],
   "source": [
    "fig = plt.figure(figsize=(8,5))\n",
    "plt.bar(model, height=accuracy)\n",
    "# plt.xticks(rotation = 45)\n",
    "plt.title('Accuracy Comparison')\n",
    "plt.yticks(np.arange(0,1, step = 0.1))\n",
    "for xpos, ypos, yval in zip(model, compare['accuracy'], compare['accuracy']):\n",
    "    plt.text(xpos, ypos+0.01, \"%.2f\"%yval, ha='center', color='black', fontsize=10)\n",
    "\n",
    "plt.savefig('compare.png', dpi=600)"
   ]
  },
  {
   "cell_type": "markdown",
   "metadata": {},
   "source": [
    "# Discussion"
   ]
  },
  {
   "cell_type": "markdown",
   "metadata": {},
   "source": [
    "With the growing health industry and the rising problems with heart diseases we selected this topic to understand how we can perform our Analysis on certain Modeling techniques, what we obsereved when doing the project was that even though we have alot of cases with heart diseases we still faced problems with the data being insonsistent in terms of the various leveles of targets of heart disease. Ideally this data should have been more refined for better analysis.WE have in this case manipulayed the targets from 1 through 4 to 1 to say that there is a presense of the disease but this may not always be true since a detection of 1 can sometimes be a wrong detection as well. we have performed the analysis but this cannot be an accurate model for future detection it can be a possibility of the disease being present."
   ]
  },
  {
   "cell_type": "markdown",
   "metadata": {},
   "source": [
    "## References\n",
    "Brownlee, J. (2019). <I>Bagging and Random Forest Ensemble Algorithms for Machine Learning</I> Machine Learning Mastery<br>Retrieved from https://machinelearningmastery.com/bagging-and-random-forest-ensemble-algorithms-for-machine-learning/\n",
    "<br>\n",
    "\n",
    "Latha, C. B. C., & Jeeva, S. C. (2019). <I>Improving the accuracy of prediction of heart disease risk based on ensemble classification techniques.</I> Informatics in Medicine Unlocked, 16, 100203. doi: 10.1016/j.imu.2019.100203\n",
    "<br>\n",
    "Retrieved from https://www.sciencedirect.com/science/article/pii/S235291481830217X\n",
    "\n",
    "Chaki, D., Das, A., & Zaber, M. (2015). <I>A comparison of three discrete methods for classification of heart disease data.</I> Bangladesh Journal of Scientific and Industrial Research, 50(4), 293–296. doi: 10.3329/bjsir.v50i4.25839\n",
    "<br>\n",
    "Retrieved from https://pdfs.semanticscholar.org/c947/8126d76c6f6481761c898eb432be3ade9ee5.pdf\n",
    "\n",
    "Aha, D. W. (n.d.). <I>Heart Disease Data Set.</I> <br>\n",
    "Retrieved October 23, 2019, from https://archive.ics.uci.edu/ml/datasets/Heart+Disease\n",
    "\n",
    "Rajeshjnv. (2019). <I>Heart Disease Classification - Neural Network.</I> <br>\n",
    "Retrieved from https://www.kaggle.com/rajeshjnv/heart-disease-classification-neural-network#Fitting-the-model\n",
    "\n",
    "Kralmachine. (2019, July 5). <I>Analyzing the Heart Disease.</I> <br>\n",
    "Retrieved from https://www.kaggle.com/kralmachine/analyzing-the-heart-disease#notebook-container."
   ]
  }
 ],
 "metadata": {
  "kernelspec": {
   "display_name": "Python 3",
   "language": "python",
   "name": "python3"
  },
  "language_info": {
   "codemirror_mode": {
    "name": "ipython",
    "version": 3
   },
   "file_extension": ".py",
   "mimetype": "text/x-python",
   "name": "python",
   "nbconvert_exporter": "python",
   "pygments_lexer": "ipython3",
   "version": "3.7.3"
  }
 },
 "nbformat": 4,
 "nbformat_minor": 2
}
